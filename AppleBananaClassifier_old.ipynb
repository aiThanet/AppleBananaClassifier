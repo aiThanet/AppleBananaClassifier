{
 "cells": [
  {
   "cell_type": "code",
   "execution_count": 39,
   "metadata": {},
   "outputs": [],
   "source": [
    "# import the necessary packages\n",
    "from sklearn.preprocessing import LabelEncoder\n",
    "from sklearn.svm import LinearSVC\n",
    "from sklearn.metrics import classification_report\n",
    "from imutils import paths\n",
    "import numpy as np\n",
    "import imutils\n",
    "import cv2\n",
    "import os\n",
    "\n",
    "import matplotlib.pyplot as plt\n",
    "import skimage\n",
    "from skimage import color\n",
    "from skimage import io\n",
    "from skimage.transform import resize"
   ]
  },
  {
   "cell_type": "code",
   "execution_count": 40,
   "metadata": {},
   "outputs": [],
   "source": [
    "# initialize\n",
    "TRAIN_PATH = './traindata/'\n",
    "TEST_PATH = './testdata/'"
   ]
  },
  {
   "cell_type": "code",
   "execution_count": 42,
   "metadata": {},
   "outputs": [],
   "source": [
    "def imgToArray(image):\n",
    "    img = io.imread(image,as_grey=True)\n",
    "    img_resize = skimage.transform.resize(img,output_shape=(100,100))\n",
    "    return img_resize.ravel()"
   ]
  },
  {
   "cell_type": "code",
   "execution_count": 43,
   "metadata": {},
   "outputs": [],
   "source": [
    "def buildDataAndLabel(imagePaths,updateTime):\n",
    "    data = []\n",
    "    labels = []\n",
    "    for (i, imagePath) in enumerate(imagePaths):\n",
    "        # load the image and extract the class label (assuming that our\n",
    "        # path as the format: /path/to/dataset/{class}.{image_num}.jpg\n",
    "        label = imagePath.split(os.path.sep)[-1].split(\".\")[0]\n",
    "        # extract a grayscale matrix of image\n",
    "        # data matrix and labels list\n",
    "        hist = imgToArray(imagePath)\n",
    "        data.append(hist)\n",
    "        labels.append(label)\n",
    "        # show an update every 100 images\n",
    "        if i > 0 and i % updateTime == 0:\n",
    "            print(\"[INFO] processed {}/{}\".format(i, len(imagePaths)))\n",
    "    return (data,labels)"
   ]
  },
  {
   "cell_type": "code",
   "execution_count": 44,
   "metadata": {},
   "outputs": [
    {
     "name": "stdout",
     "output_type": "stream",
     "text": [
      "[INFO] describing images...\n"
     ]
    },
    {
     "data": {
      "text/plain": [
       "['./traindata/apple.1241.jpg',\n",
       " './traindata/apple.395.jpg',\n",
       " './traindata/apple.381.jpg',\n",
       " './traindata/apple.1255.jpg',\n",
       " './traindata/apple.1269.jpg']"
      ]
     },
     "execution_count": 44,
     "metadata": {},
     "output_type": "execute_result"
    }
   ],
   "source": [
    "train_data = []\n",
    "train_labels = []\n",
    "print(\"[INFO] describing images...\")\n",
    "train_imagePaths = list(paths.list_images(TRAIN_PATH))\n",
    "train_imagePaths[:5]"
   ]
  },
  {
   "cell_type": "code",
   "execution_count": 45,
   "metadata": {},
   "outputs": [
    {
     "name": "stderr",
     "output_type": "stream",
     "text": [
      "/Users/thanetsirichanyaphong/anaconda3/lib/python3.6/site-packages/skimage/transform/_warps.py:84: UserWarning: The default mode, 'constant', will be changed to 'reflect' in skimage 0.15.\n",
      "  warn(\"The default mode, 'constant', will be changed to 'reflect' in \"\n"
     ]
    },
    {
     "name": "stdout",
     "output_type": "stream",
     "text": [
      "[INFO] processed 100/1902\n",
      "[INFO] processed 200/1902\n",
      "[INFO] processed 300/1902\n",
      "[INFO] processed 400/1902\n",
      "[INFO] processed 500/1902\n",
      "[INFO] processed 600/1902\n",
      "[INFO] processed 700/1902\n",
      "[INFO] processed 800/1902\n",
      "[INFO] processed 900/1902\n",
      "[INFO] processed 1000/1902\n",
      "[INFO] processed 1100/1902\n",
      "[INFO] processed 1200/1902\n",
      "[INFO] processed 1300/1902\n",
      "[INFO] processed 1400/1902\n",
      "[INFO] processed 1500/1902\n",
      "[INFO] processed 1600/1902\n",
      "[INFO] processed 1700/1902\n",
      "[INFO] processed 1800/1902\n",
      "[INFO] processed 1900/1902\n"
     ]
    }
   ],
   "source": [
    "(train_data ,train_labels) = buildDataAndLabel(train_imagePaths,100)"
   ]
  },
  {
   "cell_type": "code",
   "execution_count": 46,
   "metadata": {},
   "outputs": [],
   "source": [
    "# encode the labels, converting them from strings to integers\n",
    "train_le = LabelEncoder()\n",
    "train_labels = train_le.fit_transform(train_labels)"
   ]
  },
  {
   "cell_type": "code",
   "execution_count": 47,
   "metadata": {},
   "outputs": [
    {
     "name": "stdout",
     "output_type": "stream",
     "text": [
      "[INFO] training Linear SVM classifier...\n"
     ]
    },
    {
     "data": {
      "text/plain": [
       "LinearSVC(C=0.01, class_weight=None, dual=True, fit_intercept=True,\n",
       "     intercept_scaling=1, loss='squared_hinge', max_iter=1000,\n",
       "     multi_class='ovr', penalty='l2', random_state=100, tol=0.0001,\n",
       "     verbose=0)"
      ]
     },
     "execution_count": 47,
     "metadata": {},
     "output_type": "execute_result"
    }
   ],
   "source": [
    "print(\"[INFO] training Linear SVM classifier...\")\n",
    "model = LinearSVC(C=0.01,random_state=100)\n",
    "model.fit(train_data, train_labels)"
   ]
  },
  {
   "cell_type": "markdown",
   "metadata": {},
   "source": [
    "## Test Data"
   ]
  },
  {
   "cell_type": "code",
   "execution_count": 48,
   "metadata": {},
   "outputs": [
    {
     "name": "stdout",
     "output_type": "stream",
     "text": [
      "[INFO] describing images...\n"
     ]
    },
    {
     "data": {
      "text/plain": [
       "['./testdata/banana.4.jpg',\n",
       " './testdata/banana.5.jpg',\n",
       " './testdata/banana.2.jpg',\n",
       " './testdata/banana.3.jpg',\n",
       " './testdata/banana.1.jpg',\n",
       " './testdata/apple.1.jpg',\n",
       " './testdata/apple.3.jpg',\n",
       " './testdata/apple.2.jpg',\n",
       " './testdata/apple.4.jpg']"
      ]
     },
     "execution_count": 48,
     "metadata": {},
     "output_type": "execute_result"
    }
   ],
   "source": [
    "test_data = []\n",
    "test_labels = []\n",
    "print(\"[INFO] describing images...\")\n",
    "test_imagePaths = list(paths.list_images(TEST_PATH))\n",
    "test_imagePaths[:10]"
   ]
  },
  {
   "cell_type": "code",
   "execution_count": 49,
   "metadata": {},
   "outputs": [
    {
     "name": "stdout",
     "output_type": "stream",
     "text": [
      "[INFO] processed 1/9\n",
      "[INFO] processed 2/9\n"
     ]
    },
    {
     "name": "stderr",
     "output_type": "stream",
     "text": [
      "/Users/thanetsirichanyaphong/anaconda3/lib/python3.6/site-packages/skimage/transform/_warps.py:84: UserWarning: The default mode, 'constant', will be changed to 'reflect' in skimage 0.15.\n",
      "  warn(\"The default mode, 'constant', will be changed to 'reflect' in \"\n"
     ]
    },
    {
     "name": "stdout",
     "output_type": "stream",
     "text": [
      "[INFO] processed 3/9\n",
      "[INFO] processed 4/9\n",
      "[INFO] processed 5/9\n",
      "[INFO] processed 6/9\n",
      "[INFO] processed 7/9\n",
      "[INFO] processed 8/9\n"
     ]
    }
   ],
   "source": [
    "(test_data ,test_labels) = buildDataAndLabel(test_imagePaths,1)"
   ]
  },
  {
   "cell_type": "code",
   "execution_count": 50,
   "metadata": {},
   "outputs": [],
   "source": [
    "test_le = LabelEncoder()\n",
    "test_labels = test_le.fit_transform(test_labels)"
   ]
  },
  {
   "cell_type": "code",
   "execution_count": 51,
   "metadata": {},
   "outputs": [
    {
     "name": "stdout",
     "output_type": "stream",
     "text": [
      "[INFO] evaluating classifier...\n",
      "             precision    recall  f1-score   support\n",
      "\n",
      "      apple       1.00      0.25      0.40         4\n",
      "     banana       0.62      1.00      0.77         5\n",
      "\n",
      "avg / total       0.79      0.67      0.61         9\n",
      "\n"
     ]
    }
   ],
   "source": [
    "# evaluate the classifier\n",
    "print(\"[INFO] evaluating classifier...\")\n",
    "predictions = model.predict(test_data)\n",
    "print(classification_report(test_labels, predictions,target_names=test_le.classes_))"
   ]
  },
  {
   "cell_type": "code",
   "execution_count": 54,
   "metadata": {},
   "outputs": [
    {
     "data": {
      "text/plain": [
       "array([1, 1, 1, 1, 1, 1, 0, 1, 1])"
      ]
     },
     "execution_count": 54,
     "metadata": {},
     "output_type": "execute_result"
    }
   ],
   "source": [
    "predictions"
   ]
  },
  {
   "cell_type": "code",
   "execution_count": 52,
   "metadata": {},
   "outputs": [],
   "source": [
    "def predict_A_Img(imagePath):\n",
    "    img = []\n",
    "    hist = imgToArray(imagePath)\n",
    "    label = imagePath.split(os.path.sep)[-1].split(\".\")[0]\n",
    "    img.append(hist)\n",
    "    predict = model.predict(img)[0]\n",
    "    predict_label = ''\n",
    "    if(predict==0):\n",
    "        predict_label='apple'\n",
    "    else:\n",
    "        predict_label='banana'\n",
    "    print('prediction : '+predict_label)\n",
    "    print('Actual : '+label)\n",
    "    print('Result : ',predict_label==label)\n",
    "    \n",
    "    "
   ]
  },
  {
   "cell_type": "code",
   "execution_count": 56,
   "metadata": {},
   "outputs": [
    {
     "name": "stdout",
     "output_type": "stream",
     "text": [
      "prediction : banana\n",
      "Actual : apple\n",
      "Result :  False\n"
     ]
    },
    {
     "name": "stderr",
     "output_type": "stream",
     "text": [
      "/Users/thanetsirichanyaphong/anaconda3/lib/python3.6/site-packages/skimage/transform/_warps.py:84: UserWarning: The default mode, 'constant', will be changed to 'reflect' in skimage 0.15.\n",
      "  warn(\"The default mode, 'constant', will be changed to 'reflect' in \"\n"
     ]
    }
   ],
   "source": [
    "predict_A_Img('./testdata/apple.2.jpg')"
   ]
  },
  {
   "cell_type": "code",
   "execution_count": null,
   "metadata": {},
   "outputs": [],
   "source": []
  }
 ],
 "metadata": {
  "kernelspec": {
   "display_name": "Python 3",
   "language": "python",
   "name": "python3"
  },
  "language_info": {
   "codemirror_mode": {
    "name": "ipython",
    "version": 3
   },
   "file_extension": ".py",
   "mimetype": "text/x-python",
   "name": "python",
   "nbconvert_exporter": "python",
   "pygments_lexer": "ipython3",
   "version": "3.6.4"
  }
 },
 "nbformat": 4,
 "nbformat_minor": 2
}
